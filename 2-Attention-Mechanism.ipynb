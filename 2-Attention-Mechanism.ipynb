{
  "nbformat": 4,
  "nbformat_minor": 0,
  "metadata": {
    "colab": {
      "provenance": [],
      "include_colab_link": true
    },
    "kernelspec": {
      "name": "python3",
      "display_name": "Python 3"
    },
    "language_info": {
      "name": "python"
    }
  },
  "cells": [
    {
      "cell_type": "markdown",
      "metadata": {
        "id": "view-in-github",
        "colab_type": "text"
      },
      "source": [
        "<a href=\"https://colab.research.google.com/github/LeeJeonJin/-GPT--AI-/blob/main/2-Attention-Mechanism.ipynb\" target=\"_parent\"><img src=\"https://colab.research.google.com/assets/colab-badge.svg\" alt=\"Open In Colab\"/></a>"
      ]
    },
    {
      "cell_type": "code",
      "source": [
        "#Query, Key, Value weight 학습\n",
        "from numpy import array\n",
        "from numpy import random\n",
        "from numpy import dot\n",
        "from scipy.special import softmax"
      ],
      "metadata": {
        "id": "xswGSs2d8EG8"
      },
      "execution_count": 1,
      "outputs": []
    },
    {
      "cell_type": "code",
      "source": [
        "# 네 가지 다른 단어의 인코더 표현\n",
        "word_1 = array([1, 0, 0])\n",
        "word_2 = array([0, 1, 0])\n",
        "word_3 = array([1, 1, 0])\n",
        "word_4 = array([0, 0, 1])"
      ],
      "metadata": {
        "id": "Qo1Og3hJ8E2y"
      },
      "execution_count": 2,
      "outputs": []
    },
    {
      "cell_type": "code",
      "source": [
        "# 단어 임베딩을 단일 배열로 쌓기(유사도)\n",
        "words = array([word_1, word_2, word_3, word_4])"
      ],
      "metadata": {
        "id": "6lL7ag3U8HsV"
      },
      "execution_count": 10,
      "outputs": []
    },
    {
      "cell_type": "code",
      "source": [
        "words"
      ],
      "metadata": {
        "id": "daKPbNBQ84dT",
        "outputId": "2f67ed5f-b72f-4033-9264-29a9719d5674",
        "colab": {
          "base_uri": "https://localhost:8080/"
        }
      },
      "execution_count": 11,
      "outputs": [
        {
          "output_type": "execute_result",
          "data": {
            "text/plain": [
              "array([[1, 0, 0],\n",
              "       [0, 1, 0],\n",
              "       [1, 1, 0],\n",
              "       [0, 0, 1]])"
            ]
          },
          "metadata": {},
          "execution_count": 11
        }
      ]
    },
    {
      "cell_type": "code",
      "source": [
        "# 가중치 행렬 생성\n",
        "random.seed(42)\n",
        "W_Q = random.randint(3, size=(3, 3))\n",
        "W_K = random.randint(3, size=(3, 3))\n",
        "W_V = random.randint(3, size=(3, 3))\n",
        "\n",
        "# 쿼리, 키, 값 생성\n",
        "Q = words @ W_Q\n",
        "K = words @ W_K\n",
        "V = words @ W_V"
      ],
      "metadata": {
        "id": "lXSkkIpQ8LjI"
      },
      "execution_count": 12,
      "outputs": []
    },
    {
      "cell_type": "code",
      "source": [
        "# 모든 주요 벡터에 대해 쿼리 벡터의 점수를 매깁니다.\n",
        "scores = Q @ K.transpose()"
      ],
      "metadata": {
        "id": "abZUQyxm8M0o"
      },
      "execution_count": 13,
      "outputs": []
    },
    {
      "cell_type": "code",
      "source": [
        "scores"
      ],
      "metadata": {
        "id": "VvnRg8rW8Oz6",
        "outputId": "84e60789-bc90-4f72-ee05-e1a304af5da6",
        "colab": {
          "base_uri": "https://localhost:8080/"
        }
      },
      "execution_count": 14,
      "outputs": [
        {
          "output_type": "execute_result",
          "data": {
            "text/plain": [
              "array([[ 8,  2, 10,  2],\n",
              "       [ 4,  0,  4,  0],\n",
              "       [12,  2, 14,  2],\n",
              "       [10,  4, 14,  3]])"
            ]
          },
          "metadata": {},
          "execution_count": 14
        }
      ]
    },
    {
      "cell_type": "code",
      "source": [
        "# 소프트맥스 연산으로 가중치 계산\n",
        "weights = softmax(scores / K.shape[1] ** 0.5, axis=1)\n",
        "\n",
        "# 값 벡터의 가중 합으로 주의를 계산합니다.\n",
        "attention = weights @ V"
      ],
      "metadata": {
        "id": "kiHM9siE8Q0y"
      },
      "execution_count": 16,
      "outputs": []
    },
    {
      "cell_type": "code",
      "execution_count": 17,
      "metadata": {
        "colab": {
          "base_uri": "https://localhost:8080/"
        },
        "id": "a3WTPnDy2CQF",
        "outputId": "3a7867c9-989b-4fa7-9dd3-5df06e89e98a"
      },
      "outputs": [
        {
          "output_type": "stream",
          "name": "stdout",
          "text": [
            "[[0.98522025 1.74174051 0.75652026]\n",
            " [0.90965265 1.40965265 0.5       ]\n",
            " [0.99851226 1.75849334 0.75998108]\n",
            " [0.99560386 1.90407309 0.90846923]]\n"
          ]
        }
      ],
      "source": [
        "print(attention)"
      ]
    },
    {
      "cell_type": "code",
      "source": [
        "words @ W_Q"
      ],
      "metadata": {
        "id": "uIsdfL9z8Wt6",
        "outputId": "dcb72ab5-4aa7-491d-fd88-9f9669cb5d4b",
        "colab": {
          "base_uri": "https://localhost:8080/"
        }
      },
      "execution_count": 18,
      "outputs": [
        {
          "output_type": "execute_result",
          "data": {
            "text/plain": [
              "array([[2, 0, 2],\n",
              "       [2, 0, 0],\n",
              "       [4, 0, 2],\n",
              "       [2, 1, 2]])"
            ]
          },
          "metadata": {},
          "execution_count": 18
        }
      ]
    },
    {
      "cell_type": "code",
      "source": [],
      "metadata": {
        "id": "V0Y1OOAP9RvM"
      },
      "execution_count": null,
      "outputs": []
    }
  ]
}