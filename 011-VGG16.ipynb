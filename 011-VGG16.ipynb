{
  "nbformat": 4,
  "nbformat_minor": 0,
  "metadata": {
    "colab": {
      "provenance": [],
      "gpuType": "T4",
      "include_colab_link": true
    },
    "kernelspec": {
      "name": "python3",
      "display_name": "Python 3"
    },
    "language_info": {
      "name": "python"
    },
    "accelerator": "GPU"
  },
  "cells": [
    {
      "cell_type": "markdown",
      "metadata": {
        "id": "view-in-github",
        "colab_type": "text"
      },
      "source": [
        "<a href=\"https://colab.research.google.com/github/LeeJeonJin/-GPT--AI-/blob/main/011-VGG16.ipynb\" target=\"_parent\"><img src=\"https://colab.research.google.com/assets/colab-badge.svg\" alt=\"Open In Colab\"/></a>"
      ]
    },
    {
      "cell_type": "code",
      "source": [
        "!wget --no-check-certificate 'https://docs.google.com/uc?export=download&id=1IcBrgcx8NP85gYg5XrhPhr12GgGDPweu' -O elephant.jpg"
      ],
      "metadata": {
        "id": "cK41sthMpEMU",
        "outputId": "05637139-6405-4185-e895-1938f5eb6c6c",
        "colab": {
          "base_uri": "https://localhost:8080/"
        }
      },
      "execution_count": 1,
      "outputs": [
        {
          "output_type": "stream",
          "name": "stdout",
          "text": [
            "--2025-03-26 14:27:17--  https://docs.google.com/uc?export=download&id=1IcBrgcx8NP85gYg5XrhPhr12GgGDPweu\n",
            "Resolving docs.google.com (docs.google.com)... 108.177.98.100, 108.177.98.102, 108.177.98.139, ...\n",
            "Connecting to docs.google.com (docs.google.com)|108.177.98.100|:443... connected.\n",
            "HTTP request sent, awaiting response... 303 See Other\n",
            "Location: https://drive.usercontent.google.com/download?id=1IcBrgcx8NP85gYg5XrhPhr12GgGDPweu&export=download [following]\n",
            "--2025-03-26 14:27:17--  https://drive.usercontent.google.com/download?id=1IcBrgcx8NP85gYg5XrhPhr12GgGDPweu&export=download\n",
            "Resolving drive.usercontent.google.com (drive.usercontent.google.com)... 172.253.117.132, 2607:f8b0:400e:c0a::84\n",
            "Connecting to drive.usercontent.google.com (drive.usercontent.google.com)|172.253.117.132|:443... connected.\n",
            "HTTP request sent, awaiting response... 200 OK\n",
            "Length: 843231 (823K) [image/png]\n",
            "Saving to: ‘elephant.jpg’\n",
            "\n",
            "elephant.jpg        100%[===================>] 823.47K  --.-KB/s    in 0.008s  \n",
            "\n",
            "2025-03-26 14:27:19 (104 MB/s) - ‘elephant.jpg’ saved [843231/843231]\n",
            "\n"
          ]
        }
      ]
    },
    {
      "cell_type": "code",
      "execution_count": 2,
      "metadata": {
        "id": "Ik_IaexyGc89"
      },
      "outputs": [],
      "source": [
        "from tensorflow.keras.applications.vgg16 import VGG16, preprocess_input, decode_predictions\n",
        "from tensorflow.keras.preprocessing import image\n",
        "import numpy as np"
      ]
    },
    {
      "cell_type": "code",
      "source": [
        "# VGG16 모델을 완전 연결 레이어와 함께 로드합니다.\n",
        "model = VGG16(weights='imagenet')\n",
        "\n",
        "# 이미지를 로드하고 전처리합니다.\n",
        "img_path = 'elephant.jpg'\n",
        "img = image.load_img(img_path, target_size=(224, 224))\n",
        "x = image.img_to_array(img)\n",
        "x = np.expand_dims(x, axis=0)\n",
        "x = preprocess_input(x)\n",
        "\n",
        "# 이미지에 대한 예측을 수행합니다.\n",
        "predictions = model.predict(x)\n",
        "\n",
        "# 예측 결과를 해석합니다. 코끼리가 있는지 없는지 확인\n",
        "decoded_predictions = decode_predictions(predictions, top=5)[0]\n",
        "for i, (imagenet_id, label, score) in enumerate(decoded_predictions):\n",
        "    if 'elephant' in label:\n",
        "        print(f\"Elephant Probability: {score*100:.2f}%\")\n",
        "        break\n",
        "else:\n",
        "    print(\"Elephant not found in the top-5 predictions\")\n"
      ],
      "metadata": {
        "id": "qJHd2l9mpWgj",
        "outputId": "1d547e6e-ee4d-4f81-ba23-3820a496072e",
        "colab": {
          "base_uri": "https://localhost:8080/"
        }
      },
      "execution_count": 3,
      "outputs": [
        {
          "output_type": "stream",
          "name": "stdout",
          "text": [
            "Downloading data from https://storage.googleapis.com/tensorflow/keras-applications/vgg16/vgg16_weights_tf_dim_ordering_tf_kernels.h5\n",
            "\u001b[1m553467096/553467096\u001b[0m \u001b[32m━━━━━━━━━━━━━━━━━━━━\u001b[0m\u001b[37m\u001b[0m \u001b[1m5s\u001b[0m 0us/step\n",
            "\u001b[1m1/1\u001b[0m \u001b[32m━━━━━━━━━━━━━━━━━━━━\u001b[0m\u001b[37m\u001b[0m \u001b[1m3s\u001b[0m 3s/step\n",
            "Downloading data from https://storage.googleapis.com/download.tensorflow.org/data/imagenet_class_index.json\n",
            "\u001b[1m35363/35363\u001b[0m \u001b[32m━━━━━━━━━━━━━━━━━━━━\u001b[0m\u001b[37m\u001b[0m \u001b[1m0s\u001b[0m 0us/step\n",
            "Elephant Probability: 58.96%\n"
          ]
        }
      ]
    },
    {
      "cell_type": "code",
      "source": [
        "decoded_predictions"
      ],
      "metadata": {
        "id": "DEdlpVXGG4u6",
        "outputId": "01fcd3b1-417e-44c3-b59a-ba4d3a84176a",
        "colab": {
          "base_uri": "https://localhost:8080/"
        }
      },
      "execution_count": null,
      "outputs": [
        {
          "output_type": "execute_result",
          "data": {
            "text/plain": [
              "[('n02504458', 'African_elephant', 0.58964443),\n",
              " ('n01871265', 'tusker', 0.39534792),\n",
              " ('n02504013', 'Indian_elephant', 0.014534739),\n",
              " ('n02437312', 'Arabian_camel', 0.0002635161),\n",
              " ('n02113799', 'standard_poodle', 4.4038385e-05)]"
            ]
          },
          "metadata": {},
          "execution_count": 4
        }
      ]
    }
  ]
}